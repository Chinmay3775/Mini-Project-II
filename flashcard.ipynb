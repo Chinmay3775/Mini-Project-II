{
  "nbformat": 4,
  "nbformat_minor": 0,
  "metadata": {
    "colab": {
      "provenance": [],
      "authorship_tag": "ABX9TyOZ2itB/f24fulCcL5FD7TN",
      "include_colab_link": true
    },
    "kernelspec": {
      "name": "python3",
      "display_name": "Python 3"
    },
    "language_info": {
      "name": "python"
    }
  },
  "cells": [
    {
      "cell_type": "markdown",
      "metadata": {
        "id": "view-in-github",
        "colab_type": "text"
      },
      "source": [
        "<a href=\"https://colab.research.google.com/github/Chinmay3775/Mini-Project-II/blob/main/flashcard.ipynb\" target=\"_parent\"><img src=\"https://colab.research.google.com/assets/colab-badge.svg\" alt=\"Open In Colab\"/></a>"
      ]
    },
    {
      "cell_type": "code",
      "execution_count": 12,
      "metadata": {
        "colab": {
          "base_uri": "https://localhost:8080/"
        },
        "id": "JIkxOOROtzfB",
        "outputId": "a42d1e33-83ce-4939-90bd-023c58865364"
      },
      "outputs": [
        {
          "output_type": "stream",
          "name": "stdout",
          "text": [
            "Flashcard 1: Type passive attack release message content traffic analysis\n",
            "Flashcard 2: Active attacks active attack involve modification data stream creation false stream subdivide category masquerade replay modification message denial service\n",
            "Flashcard 3: Second type passive attack traffic analysis subtle figure\n",
            "Flashcard 4: Passive attack difficult detect measure available prevent success\n",
            "Flashcard 5: Suppose way mask content message information traffic opponent capture message extract information message\n"
          ]
        }
      ],
      "source": [
        "import spacy\n",
        "import numpy as np\n",
        "import networkx as nx\n",
        "from sklearn.feature_extraction.text import TfidfVectorizer\n",
        "from sklearn.metrics.pairwise import cosine_similarity\n",
        "from sentence_transformers import SentenceTransformer\n",
        "\n",
        "def preprocess_text(text):\n",
        "    \"\"\"Removes greetings, stopwords, and unnecessary parts while maintaining readability.\"\"\"\n",
        "    nlp = spacy.load(\"en_core_web_sm\")\n",
        "    doc = nlp(text)\n",
        "    sentences = [sent.text.strip() for sent in doc.sents]\n",
        "\n",
        "    # Use lemmatization instead of direct stopword removal for better semantics\n",
        "    stopwords = nlp.Defaults.stop_words\n",
        "    processed_sentences = []\n",
        "\n",
        "    for sent in sentences:\n",
        "        tokens = [token.lemma_ for token in nlp(sent) if token.text.lower() not in stopwords and token.is_alpha]\n",
        "        cleaned_sent = \" \".join(tokens)\n",
        "        if cleaned_sent:\n",
        "            processed_sentences.append(cleaned_sent)\n",
        "\n",
        "    return processed_sentences if processed_sentences else sentences  # Ensure we don't return an empty list\n",
        "\n",
        "def textrank_summary(text, top_n=5):\n",
        "    \"\"\"Ranks sentences using a semantic similarity approach and extracts the most important ones.\"\"\"\n",
        "    sentences = preprocess_text(text)\n",
        "    if not sentences:\n",
        "        return []\n",
        "\n",
        "    model = SentenceTransformer('all-MiniLM-L6-v2')  # Better semantic representation\n",
        "    embeddings = model.encode(sentences)\n",
        "\n",
        "    similarity_matrix = cosine_similarity(embeddings)\n",
        "    graph = nx.from_numpy_array(similarity_matrix)\n",
        "    scores = nx.pagerank(graph)\n",
        "    ranked_sentences = sorted(((scores[i], s) for i, s in enumerate(sentences)), reverse=True)\n",
        "\n",
        "    return [s[1] for s in ranked_sentences[:min(top_n, len(sentences))]]\n",
        "\n",
        "def extract_flashcards(text, num_flashcards=5):\n",
        "    \"\"\"Generates flashcards with key points from any text, improving coherence.\"\"\"\n",
        "    key_sentences = textrank_summary(text, num_flashcards)\n",
        "    flashcards = {f\"Flashcard {i+1}\": sentence.capitalize() for i, sentence in enumerate(key_sentences)}\n",
        "    return flashcards\n",
        "\n",
        "# Example usage\n",
        "input_text = \"\"\"SECURITY ATTACKS\n",
        "Passive Attacks\n",
        "Passive attacks are in the nature of eavesdropping on, or monitoring of, transmissions.\n",
        "The goal of the opponent is to obtain information that is being transmitted. Two types\n",
        "of passive attacks are the release of message content and traffic analysis. The release\n",
        "of message contents is easily understood (Figure 1.2a).\n",
        "A telephone conversation, an electronic mail message, and a transferred file may\n",
        "contain sensitive or confidential information.\n",
        "A second type of passive attack, traffic analysis, is subtler (Figure 1.2b). Suppose that\n",
        "we had a way of masking the contents of messages or other information traffic so that\n",
        "opponents, even if they captured the message, could not extract the information from\n",
        "the message.\n",
        "Passive attacks are very difficult to detect because they do not involve any alteration\n",
        "of the data. Typically, the message traffic is sent and received in a normal fashion, and\n",
        "neither the sender nor receiver is aware that a third party has read the messages or\n",
        "observed the traffic pattern.\n",
        "Active Attacks\n",
        "Active attacks involve some modification of the data stream or the creation of a false\n",
        "stream and can be subdivided into four categories: masquerade, replay, modification\n",
        "of messages, and denial of service.\n",
        "A masquerade takes place when one entity pretends to be a different entity (Figure\n",
        "1.3a). A masquerade attack usually includes one of the other forms of active attack.\n",
        "For example, authentication sequences can be captured and replayed after a valid\n",
        "authentication sequence has taken place, thus enabling an authorized entity with few\n",
        "privileges to obtain extra privileges by impersonating an entity that has those\n",
        "privileges.\n",
        "Replay involves the passive capture of a data unit and its subsequent retransmission\n",
        "to produce an unauthorized effect (Figure 1.3b).\n",
        "Modification of messages simply means that some portion of a legitimate message is\n",
        "altered, or that messages are delayed or reordered, to produce an unauthorized effect\n",
        "(Figure 1.3c). For example, a message meaning “Allow John Smith to read confidential\n",
        "file accounts” is modified to mean “Allow Fred Brown to read confidential file\n",
        "accounts.”\n",
        "The denial of service prevents or inhibits the normal use or management of\n",
        "communications facilities (Figure 1.3d). This attack may have a specific target\n",
        "Active attacks present the opposite characteristics of passive attacks. Whereas passive\n",
        "attacks are difficult to detect, measures are available to prevent their success.\n",
        "\"\"\"\n",
        "flashcards = extract_flashcards(input_text)\n",
        "for key, value in flashcards.items():\n",
        "    print(f\"{key}: {value}\")"
      ]
    },
    {
      "cell_type": "code",
      "source": [],
      "metadata": {
        "id": "i7hHP3qht2xh"
      },
      "execution_count": null,
      "outputs": []
    }
  ]
}