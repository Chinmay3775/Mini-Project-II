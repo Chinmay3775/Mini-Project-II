{
  "nbformat": 4,
  "nbformat_minor": 0,
  "metadata": {
    "colab": {
      "provenance": []
    },
    "kernelspec": {
      "name": "python3",
      "display_name": "Python 3"
    },
    "language_info": {
      "name": "python"
    }
  },
  "cells": [
    {
      "cell_type": "code",
      "execution_count": 12,
      "metadata": {
        "colab": {
          "base_uri": "https://localhost:8080/"
        },
        "id": "JIkxOOROtzfB",
        "outputId": "c112213f-8d34-499b-c393-db804703db98"
      },
      "outputs": [
        {
          "output_type": "stream",
          "name": "stdout",
          "text": [
            "Enter your text to generate flashcards:\n",
            "Machine learning is a subset of artificial intelligence that focuses on enabling computers to learn patterns from data. It consists of supervised, unsupervised, and reinforcement learning techniques. Supervised learning requires labeled data, while unsupervised learning finds hidden patterns in unlabeled data. Reinforcement learning is used in robotics and game AI, where agents learn by receiving rewards or penalties. The field is rapidly evolving, with applications in healthcare, finance, and automation.\n",
            "\n",
            "📚 Generated Flashcards:\n",
            "\n",
            "Flashcard 1: It consists of supervised, unsupervised, and reinforcement learning techniques.\n",
            "Flashcard 2: Machine learning is a subset of artificial intelligence that focuses on enabling computers to learn patterns from data.\n",
            "Flashcard 3: Reinforcement learning is used in robotics and game AI, where agents learn by receiving rewards or penalties.\n"
          ]
        }
      ],
      "source": [
        "import spacy\n",
        "import numpy as np\n",
        "import networkx as nx\n",
        "from sklearn.metrics.pairwise import cosine_similarity\n",
        "from sentence_transformers import SentenceTransformer\n",
        "\n",
        "def preprocess_text(text):\n",
        "    \"\"\"Splits text into sentences while maintaining structure and meaning.\"\"\"\n",
        "    nlp = spacy.load(\"en_core_web_sm\")\n",
        "    doc = nlp(text)\n",
        "    sentences = [sent.text.strip() for sent in doc.sents if sent.text.strip()]\n",
        "    return sentences\n",
        "\n",
        "def determine_flashcard_count(text):\n",
        "    \"\"\"Determines the number of flashcards based on text length.\"\"\"\n",
        "    word_count = len(text.split())\n",
        "\n",
        "    if word_count < 100:\n",
        "        return 3\n",
        "    elif 100 <= word_count < 300:\n",
        "        return 5\n",
        "    elif 300 <= word_count < 600:\n",
        "        return 7\n",
        "    else:\n",
        "        return 10\n",
        "\n",
        "def textrank_summary(text, top_n):\n",
        "    \"\"\"Ranks sentences using semantic similarity and extracts the most important ones.\"\"\"\n",
        "    sentences = preprocess_text(text)\n",
        "    if not sentences:\n",
        "        return []\n",
        "\n",
        "    model = SentenceTransformer('all-MiniLM-L6-v2')\n",
        "    embeddings = model.encode(sentences)\n",
        "\n",
        "    similarity_matrix = cosine_similarity(embeddings)\n",
        "    graph = nx.from_numpy_array(similarity_matrix)\n",
        "    scores = nx.pagerank(graph)\n",
        "    ranked_sentences = sorted(((scores[i], s) for i, s in enumerate(sentences)), reverse=True)\n",
        "\n",
        "    return [s[1] for s in ranked_sentences[:min(top_n, len(sentences))]]\n",
        "\n",
        "def extract_flashcards(text):\n",
        "    \"\"\"Generates flashcards dynamically based on text length.\"\"\"\n",
        "    num_flashcards = determine_flashcard_count(text)\n",
        "    key_sentences = textrank_summary(text, num_flashcards)\n",
        "\n",
        "    flashcards = {f\"Flashcard {i+1}\": sentence for i, sentence in enumerate(key_sentences)}\n",
        "    return flashcards\n",
        "\n",
        "# Get user input\n",
        "input_text = input(\"Enter your text to generate flashcards:\\n\")\n",
        "\n",
        "# Generate flashcards\n",
        "flashcards = extract_flashcards(input_text)\n",
        "\n",
        "# Print flashcards\n",
        "print(\"\\n📚 Generated Flashcards:\\n\")\n",
        "for key, value in flashcards.items():\n",
        "    print(f\"{key}: {value}\")\n"
      ]
    },
    {
      "cell_type": "code",
      "source": [],
      "metadata": {
        "id": "i7hHP3qht2xh"
      },
      "execution_count": null,
      "outputs": []
    }
  ]
}